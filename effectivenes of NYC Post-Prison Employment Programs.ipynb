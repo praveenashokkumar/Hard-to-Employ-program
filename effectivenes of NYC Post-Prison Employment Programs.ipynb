{
 "cells": [
  {
   "cell_type": "markdown",
   "metadata": {
    "run_control": {
     "frozen": false,
     "read_only": false
    }
   },
   "source": [
    "October 2017\n",
    "\n",
    "Author: Praveen Ashok Kumar"
   ]
  },
  {
   "cell_type": "code",
   "execution_count": 1,
   "metadata": {
    "ExecuteTime": {
     "end_time": "2017-10-04T09:32:19.439878",
     "start_time": "2017-10-04T09:32:18.192005"
    },
    "run_control": {
     "frozen": false,
     "read_only": false
    }
   },
   "outputs": [
    {
     "name": "stdout",
     "output_type": "stream",
     "text": [
      "Populating the interactive namespace from numpy and matplotlib\n"
     ]
    }
   ],
   "source": [
    "import os\n",
    "import sys\n",
    "import numpy as np\n",
    "import pylab as pl\n",
    "%pylab inline"
   ]
  },
  {
   "cell_type": "markdown",
   "metadata": {
    "run_control": {
     "frozen": false,
     "read_only": false
    }
   },
   "source": [
    "# NULL HYPOTHESIS: the % of former prisoners employed after release is the same or lower for candidates who participated in the program as for the control group, significance level p=0.05"
   ]
  },
  {
   "cell_type": "markdown",
   "metadata": {
    "run_control": {
     "frozen": false,
     "read_only": false
    }
   },
   "source": [
    "** $H_0: P_0 - P_1 \\geq$    0 **\n",
    "    \n",
    "** $H_a: P_0 - P_1 $< 0    **\n",
    "    \n",
    "    \n",
    "** $\\alpha$ = 0.05    **\n",
    "\n",
    "** this is a TEST OF PROPORTIONS. we use the Binomial distribution since it is a yes/no (bernulli) test for each subject: the former inmate was or was not ever employed in a CEO transitional job (second row in the table above): **\n",
    "\n",
    "** $P_0=0.035, P_1=0.701$**"
   ]
  },
  {
   "cell_type": "code",
   "execution_count": 2,
   "metadata": {
    "ExecuteTime": {
     "end_time": "2017-10-04T09:32:19.486649",
     "start_time": "2017-10-04T09:32:19.474118"
    },
    "run_control": {
     "frozen": false,
     "read_only": false
    }
   },
   "outputs": [
    {
     "name": "stdout",
     "output_type": "stream",
     "text": [
      "we must assess the statistical significance\n"
     ]
    }
   ],
   "source": [
    "alpha=0.05\n",
    "# we like fractions better then percentages. as a rule of thumb, either use fractions or counts\n",
    "P_0 = 3.5 * 0.01 \n",
    "P_1 = 70.1 * 0.01\n",
    "\n",
    "if P_0 - P_1 >= 0:\n",
    "    # we are done\n",
    "    print (\"the Null holds\")\n",
    "else:\n",
    "    print (\"we must assess the statistical significance\")\n",
    "\n",
    "n_0 = 409\n",
    "n_1 = 564\n",
    "\n",
    "#lets get the counts by multiplying by the sample size\n",
    "Nt_0 = P_0 * n_0\n",
    "Nt_1 = P_1 * n_1\n"
   ]
  },
  {
   "cell_type": "markdown",
   "metadata": {
    "run_control": {
     "frozen": false,
     "read_only": false
    }
   },
   "source": [
    "## samples, categorical data\n",
    " \n",
    " ** TWO OPTIONS z test, or chi-square test.  **"
   ]
  },
  {
   "cell_type": "markdown",
   "metadata": {
    "run_control": {
     "frozen": false,
     "read_only": false
    }
   },
   "source": [
    "#  Z TEST\n",
    "\n",
    "** the z test compares the stanrard deviation of the expected distribution and the observed result. it tells you literally how many standard deviations from the tail an observation is, under the _assumption of normality_ **\n"
   ]
  },
  {
   "cell_type": "markdown",
   "metadata": {},
   "source": [
    "### Must define the sample standard deviation (standard error)"
   ]
  },
  {
   "cell_type": "code",
   "execution_count": 3,
   "metadata": {
    "ExecuteTime": {
     "end_time": "2017-10-04T09:32:19.515149",
     "start_time": "2017-10-04T09:32:19.508417"
    },
    "run_control": {
     "frozen": false,
     "read_only": false
    }
   },
   "outputs": [
    {
     "name": "stdout",
     "output_type": "stream",
     "text": [
      "0.4210472764645426\n"
     ]
    }
   ],
   "source": [
    "#define the sample proportion first\n",
    "sp = (P_0 * n_0 + P_1 * n_1) / (n_1 + n_0)\n",
    "print (sp)"
   ]
  },
  {
   "cell_type": "markdown",
   "metadata": {
    "run_control": {
     "frozen": false,
     "read_only": false
    }
   },
   "source": [
    "** standard deviation of the sampling distribution the distribution is Binomial, the binomial stdev is **\n",
    "\n",
    "(see a proof here!: http://stats.stackexchange.com/questions/29641/standard-error-for-the-mean-of-a-sample-of-binomial-random-variables!): \n",
    "\n",
    "$\\sqrt{\\frac{p(1 - p)}{n}}$\n",
    "\n",
    "for 2 samples this becomes \n",
    "\n",
    "$\\sqrt{ \\frac{ \\hat{p}(1 - \\hat{p})} {n0} + \\frac{ \\hat{p}(1 - \\hat{p})} {n1} }$\n",
    "\n",
    "cfr: page 138 of Statistics in a Nutshell, eq. 5.12 and here http://stattrek.com/hypothesis-test/difference-in-proportions.aspx?Tutorial=AP\n",
    "\n",
    "** $\\hat{p} =\\frac{p_0  n_0 + p_1  n_1}{n_0+n_1}$ **\n"
   ]
  },
  {
   "cell_type": "markdown",
   "metadata": {
    "run_control": {
     "frozen": false,
     "read_only": false
    }
   },
   "source": [
    "Note that in the online version of Statistics in a Nutshell, $\\bar{x}$  should be  $\\hat{p}$!!"
   ]
  },
  {
   "cell_type": "code",
   "execution_count": 4,
   "metadata": {
    "ExecuteTime": {
     "end_time": "2017-10-04T09:32:19.526235",
     "start_time": "2017-10-04T09:32:19.518570"
    },
    "run_control": {
     "frozen": false,
     "read_only": false
    }
   },
   "outputs": [],
   "source": [
    "# I am goonna create a little one line function to calculate the standard error\n",
    "# and to calculate p\n",
    "\n",
    "p = lambda p0, p1, n0, n1: (p0 * n0 + p1 * n1) / (n0 + n1)\n",
    "#standard error\n",
    "se = lambda p, n0, n1: np.sqrt(p * (1 - p) * (1.0 / n0 + 1.0 / n1)) "
   ]
  },
  {
   "cell_type": "markdown",
   "metadata": {
    "run_control": {
     "frozen": false,
     "read_only": false
    }
   },
   "source": [
    "** z score: how many standard deviation away from the population parameter is my statistic? **\n",
    "\n",
    " $z=\\frac{P_1-P_0}{\\sigma}$"
   ]
  },
  {
   "cell_type": "code",
   "execution_count": 5,
   "metadata": {
    "ExecuteTime": {
     "end_time": "2017-10-04T09:32:19.536576",
     "start_time": "2017-10-04T09:32:19.529323"
    },
    "run_control": {
     "frozen": false,
     "read_only": false
    }
   },
   "outputs": [
    {
     "name": "stdout",
     "output_type": "stream",
     "text": [
      "20.7697865408\n"
     ]
    }
   ],
   "source": [
    "zscore = lambda p0, p1, s : (p0 - p1) / s\n",
    "z_2y = zscore(P_1, P_0, se(p(P_0, P_1, n_0, n_1), n_0, n_1))\n",
    "print (z_2y)\n"
   ]
  },
  {
   "cell_type": "markdown",
   "metadata": {
    "run_control": {
     "frozen": false,
     "read_only": false
    }
   },
   "source": [
    "note that using p0-p1 or p1-p0 at the numerator is equivalent because the standardizes normal value of z has mean 0 (see image below) so that we can use the absolute value of the z score, or equivalently look for $P[Z<z]$ if z is positive, and $P[Z>z]$ if z is negative."
   ]
  },
  {
   "cell_type": "markdown",
   "metadata": {
    "run_control": {
     "frozen": false,
     "read_only": false
    }
   },
   "source": [
    "* if $p<\\alpha$ : reject H0 **\n",
    "\n",
    "IMPORTANT!! note that this P in the bottom line of the table is not the p-value, but \n",
    "\n",
    "p-value = 1-P"
   ]
  },
  {
   "cell_type": "code",
   "execution_count": 6,
   "metadata": {
    "ExecuteTime": {
     "end_time": "2017-10-04T09:32:20.149826",
     "start_time": "2017-10-04T09:32:20.135042"
    },
    "run_control": {
     "frozen": false,
     "read_only": false
    }
   },
   "outputs": [
    {
     "name": "stdout",
     "output_type": "stream",
     "text": [
      "is the p value 0.00 smaller than the critical value 0.05?\n",
      "YES!\n",
      "the Null hypothesis is rejected\n"
     ]
    }
   ],
   "source": [
    "## p-value for employment after 2 years: \n",
    "## since the largest number we read off the table for is (way) smaller \n",
    "## than the value for our statistic \n",
    "## our p-value will be smaller than it would be if calculated using \n",
    "## (e.g.) .9998 (and in fact using 1.0000 which is the largest number \n",
    "## in the table). Using 0.9998 is a **conservative** approach. \n",
    "\n",
    "p_2y = 1 - 0.9984\n",
    "\n",
    "\n",
    "def report_result(p,a):\n",
    "    print ('is the p value ' + \n",
    "           '{0:.2f} smaller than the critical value {1:.2f}?'.format(p,a))\n",
    "    if p < a:\n",
    "        print (\"YES!\")\n",
    "    else: \n",
    "        print (\"NO!\")\n",
    "    \n",
    "    print ('the Null hypothesis is {}'.format(\\\n",
    "                            'rejected' if p < a  else 'not rejected') )\n",
    "\n",
    "    \n",
    "report_result(p_2y, alpha)"
   ]
  },
  {
   "cell_type": "markdown",
   "metadata": {
    "run_control": {
     "frozen": false,
     "read_only": false
    }
   },
   "source": [
    "# what if we used the values for where the former inmate was or was not \"Convicted of a felony\" (row 10) in the Recidivism (Years 1-3)?\n",
    "\n",
    " Null hypothesis?\n",
    " $H_0$?\n",
    " $H_a$?\n",
    "\n",
    " $P_0 = ??, P_1= ??$"
   ]
  },
  {
   "cell_type": "markdown",
   "metadata": {
    "run_control": {
     "frozen": false,
     "read_only": false
    }
   },
   "source": [
    " look up data table and insert the appropriate values to get the appropriate result! you can use the functions I defined above, with different arguments. "
   ]
  },
  {
   "cell_type": "raw",
   "metadata": {},
   "source": [
    "P_0=...\n",
    "P_1=...\n",
    "\n",
    "\n",
    "z_3y = ...\n"
   ]
  },
  {
   "cell_type": "raw",
   "metadata": {},
   "source": [
    "p_3y=...\n",
    "\n",
    "report_result..."
   ]
  },
  {
   "cell_type": "markdown",
   "metadata": {
    "run_control": {
     "frozen": false,
     "read_only": false
    }
   },
   "source": [
    "# Now lets do it with the $\\chi^2$ test"
   ]
  },
  {
   "cell_type": "markdown",
   "metadata": {
    "run_control": {
     "frozen": false,
     "read_only": false
    }
   },
   "source": [
    "this analysis can also be done with the $\\chi^2$ test, and the  $\\chi^2$ distribution, \n",
    "\n",
    "see  flowcharts for how to choose a test and \"Statistics In a Nutshell Chapter 4\", or http://math.hws.edu/javamath/ryan/ChiSquare.html (if you are really just interested in the formula at face value)"
   ]
  },
  {
   "cell_type": "markdown",
   "metadata": {
    "run_control": {
     "frozen": false,
     "read_only": false
    }
   },
   "source": [
    "** The chisq statistics tests the statistics calculated as : **\n",
    "\n",
    "$\\chi^2 = \\sum_{i} \\frac{(observation_i - expectation_i)^2}{expectation_i}$\n",
    "\n",
    " against a chi sq distribution.\n",
    " If we talk about sample fractions  that is \n",
    "\n",
    "$\\chi^2 = \\sum_i \\frac{(f_{i,observed} - f_{i,expectated})^2}{f_{i,expected}}$\n",
    "\n",
    " Where _i_ indicates the sum over _each cell_.\n",
    " turns out this quantity is distributed according to a chi square distribution, so if i get the $\\chi^2$ statistics i can compare it to the full chisq distribution and see how far in the tail it is\n",
    "\n",
    " The trickiest part (but not that tricky) is to figure out how to construct the table of values. please see Statistics In a Nutshell Chapter 4, for our data for example: Thisis called a CONTINGENCY TABLE"
   ]
  },
  {
   "cell_type": "markdown",
   "metadata": {
    "run_control": {
     "frozen": false,
     "read_only": false
    }
   },
   "source": [
    "|                 |     success         | failure|    |               \n",
    "|-----------------|:-------------------:|:-------------------:|---------------------------|\n",
    "| test sample     | number of successes in test    | number of failures in test    | number members of test sample |\n",
    "| control sample  | number of successes in control | number of failures in control | number members of control sample| \n",
    "|                 | total successes                |  total failures               | number of all members         |\n",
    "\n",
    "|employed in subsadized job |     employed          | not employed     |                   \n",
    "|---------------------------|:---------------------:|------------------|---------------------------|\n",
    "| test sample               | $0.701*564$           | $0.299*564$      | 564                       |\n",
    "| control sample            | $0.035*409$           | $0.965*4.09$     | 409                       |\n",
    "|                           |                       |                  |                           |\n",
    "| total                     | 409.679               |  562.912         | 973                       |"
   ]
  },
  {
   "cell_type": "markdown",
   "metadata": {
    "run_control": {
     "frozen": false,
     "read_only": false
    }
   },
   "source": [
    " for each cell the expected ratio is the product of the total of all rows and all columns, devided by the total"
   ]
  },
  {
   "cell_type": "markdown",
   "metadata": {
    "run_control": {
     "frozen": false,
     "read_only": false
    }
   },
   "source": [
    "** FOR EACH CELL: **\n",
    "**  expected_cell = $\\frac{row~tot * col~tot}{total}$ **\n"
   ]
  },
  {
   "cell_type": "code",
   "execution_count": 7,
   "metadata": {
    "ExecuteTime": {
     "end_time": "2017-10-04T09:32:20.158426",
     "start_time": "2017-10-04T09:32:20.152979"
    },
    "run_control": {
     "frozen": false,
     "read_only": false
    }
   },
   "outputs": [],
   "source": [
    "from evalChisq import evalChisq"
   ]
  },
  {
   "cell_type": "code",
   "execution_count": 8,
   "metadata": {
    "ExecuteTime": {
     "end_time": "2017-10-04T09:32:20.169229",
     "start_time": "2017-10-04T09:32:20.161372"
    },
    "run_control": {
     "frozen": false,
     "read_only": false
    }
   },
   "outputs": [
    {
     "name": "stdout",
     "output_type": "stream",
     "text": [
      "436.223462575\n"
     ]
    }
   ],
   "source": [
    "\n",
    "Ntot = 973 # a + b + c + d = tot\n",
    "\n",
    "sample_values = np.array([[0.701 * 564, 0.299 * 564], [0.0305 * 409, 0.965 * 409]])\n",
    "\n",
    "print (evalChisq(sample_values))"
   ]
  },
  {
   "cell_type": "markdown",
   "metadata": {
    "run_control": {
     "frozen": false,
     "read_only": false
    }
   },
   "source": [
    "This number must be compared to the chi sq distribution. \n",
    "You must calculate the number of degrees of freedom forthis experiment. \n",
    "Generally: DOF = Number of observations - number of Independent Variables\n",
    "\n",
    "so here DOF = 1. Now you can look at the table below and draw conclusions about the rejection of the Null"
   ]
  },
  {
   "cell_type": "markdown",
   "metadata": {
    "run_control": {
     "frozen": false,
     "read_only": false
    }
   },
   "source": [
    "432 is hella larger then 3.84\n",
    "\n",
    "why am i mentioning 3.84?\n",
    "\n",
    "how does the chi square statistic that you derived compare?\n",
    "\n",
    "please  state what that means in terms of your Null hypothesis in a markdown cell below!"
   ]
  },
  {
   "cell_type": "markdown",
   "metadata": {
    "run_control": {
     "frozen": false,
     "read_only": false
    }
   },
   "source": [
    "### chi sq statistics says about the conviction for fellonies (row 10)"
   ]
  },
  {
   "cell_type": "code",
   "execution_count": 9,
   "metadata": {},
   "outputs": [
    {
     "data": {
      "text/plain": [
       "array([[  56.8  ,  511.2  ],\n",
       "       [  47.853,  361.147]])"
      ]
     },
     "execution_count": 9,
     "metadata": {},
     "output_type": "execute_result"
    }
   ],
   "source": [
    "Ntot2 = 977 # a + b + c + d = tot\n",
    "sample_values_f = np.array([[0.1 * 568, 0.9 * 568], [0.117 * 409, 0.883 * 409]])\n",
    "sample_values_f"
   ]
  },
  {
   "cell_type": "markdown",
   "metadata": {
    "run_control": {
     "frozen": false,
     "read_only": false
    }
   },
   "source": [
    "## Convicted of a fellony table \n",
    "\n",
    "|convicted of a fellony     |     yes   | no        |                   \n",
    "|---------------------------|-----------|-----------|----------------|\n",
    "| test sample               | 56.8      | 511.2     |                |\n",
    "| control sample            | 47.853    | 361.147   |                |\n",
    "| total                     | 104.653   | 872.447   |                |"
   ]
  },
  {
   "cell_type": "markdown",
   "metadata": {
    "collapsed": true,
    "run_control": {
     "frozen": false,
     "read_only": false
    }
   },
   "source": [
    "### From the Chart for one degree of freedom for alpha = 0.5 the value 3.84. Since, 7285  < 3.84, Null Hypothesis cannot be rejected"
   ]
  },
  {
   "cell_type": "code",
   "execution_count": null,
   "metadata": {
    "collapsed": true
   },
   "outputs": [],
   "source": []
  }
 ],
 "metadata": {
  "anaconda-cloud": {},
  "kernelspec": {
   "display_name": "Python 3",
   "language": "python",
   "name": "python3"
  },
  "language_info": {
   "codemirror_mode": {
    "name": "ipython",
    "version": 3
   },
   "file_extension": ".py",
   "mimetype": "text/x-python",
   "name": "python",
   "nbconvert_exporter": "python",
   "pygments_lexer": "ipython3",
   "version": "3.6.4"
  },
  "latex_envs": {
   "LaTeX_envs_menu_present": true,
   "bibliofile": "biblio.bib",
   "cite_by": "apalike",
   "current_citInitial": 1,
   "eqLabelWithNumbers": true,
   "eqNumInitial": 1,
   "hotkeys": {
    "equation": "Ctrl-E",
    "itemize": "Ctrl-I"
   },
   "labels_anchors": false,
   "latex_user_defs": false,
   "report_style_numbering": false,
   "user_envs_cfg": false
  },
  "toc": {
   "colors": {
    "hover_highlight": "#DAA520",
    "running_highlight": "#FF0000",
    "selected_highlight": "#FFD700"
   },
   "moveMenuLeft": true,
   "nav_menu": {
    "height": "513px",
    "width": "251px"
   },
   "navigate_menu": true,
   "number_sections": true,
   "sideBar": true,
   "threshold": 4,
   "toc_cell": false,
   "toc_section_display": "block",
   "toc_window_display": false
  }
 },
 "nbformat": 4,
 "nbformat_minor": 1
}
